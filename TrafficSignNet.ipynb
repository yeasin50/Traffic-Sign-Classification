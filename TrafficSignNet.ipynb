{
 "cells": [
  {
   "cell_type": "markdown",
   "metadata": {},
   "source": [
    "#  <center> TrafficSignNet\n",
    "Conv2D   \n",
    "input: (None, 32, 32, 3)   \n",
    "output: (None, 32, 32, 8) \n",
    "    \n",
    "Activation   \n",
    "input: (None, 32,32,8)   \n",
    "output: (None, 32,32,8) \n",
    "    \n",
    "BatchNormalization   \n",
    "input: (None, 32, 32, 8)   \n",
    "output: (None, 32, 32, 8) \n",
    "    \n",
    "MaxPooling2D   \n",
    "input: (None, 32, 32, 8)   \n",
    "output: (None, 16, 16, 8) \n"
   ]
  },
  {
   "cell_type": "code",
   "execution_count": 2,
   "metadata": {},
   "outputs": [],
   "source": [
    "#necessary packages\n",
    "from tensorflow.keras.models import Sequential\n",
    "from tensorflow.keras.layers import BatchNormalization\n",
    "from tensorflow.keras.layers import Conv2D\n",
    "from tensorflow.keras.layers import MaxPooling2D\n",
    "from tensorflow.keras.layers import Activation\n",
    "from tensorflow.keras.layers import Dense\n",
    "from tensorflow.keras.layers import Flatten \n",
    "from tensorflow.keras.layers import Dropout"
   ]
  },
  {
   "cell_type": "code",
   "execution_count": null,
   "metadata": {},
   "outputs": [],
   "source": [
    "class TrafficSignNet:\n",
    "    \n",
    "    def build(width, height, channel, classes):\n",
    "        #init model\n",
    "        "
   ]
  }
 ],
 "metadata": {
  "kernelspec": {
   "display_name": "Python 3",
   "language": "python",
   "name": "python3"
  },
  "language_info": {
   "codemirror_mode": {
    "name": "ipython",
    "version": 3
   },
   "file_extension": ".py",
   "mimetype": "text/x-python",
   "name": "python",
   "nbconvert_exporter": "python",
   "pygments_lexer": "ipython3",
   "version": "3.8.5"
  }
 },
 "nbformat": 4,
 "nbformat_minor": 2
}
