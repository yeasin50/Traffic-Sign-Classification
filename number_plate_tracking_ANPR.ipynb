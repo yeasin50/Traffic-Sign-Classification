{
 "cells": [
  {
   "cell_type": "markdown",
   "metadata": {},
   "source": [
    "<center><font size=3> Automatic License/Number Plate Recognition (ANPR) "
   ]
  },
  {
   "cell_type": "code",
   "execution_count": 1,
   "metadata": {},
   "outputs": [],
   "source": [
    "from skimage.segmentation import clear_border\n",
    "import numpy as np\n",
    "import pytesseract\n",
    "import imutils\n",
    "import cv2"
   ]
  },
  {
   "cell_type": "code",
   "execution_count": 85,
   "metadata": {},
   "outputs": [],
   "source": [
    "class ANPR:\n",
    "    def __init__(self, minAR=4, maxAR=5, debug=False):\n",
    "        self.minAR = minAR # minimum aspect ratio used to detect and filter rectangular license plates\n",
    "        self.maxAR = maxAR\n",
    "        self.debug = debug #should display intermediate results in our image processing pipeline\n",
    "        \n",
    "    \n",
    "    \n",
    "    def debug_show(self, title, image, waitkey=False):\n",
    "        if self.debug:\n",
    "            cv2.imshow(title, image)\n",
    "            \n",
    "            if waitkey: # for single case \n",
    "                cv2.waitKey(0)\n",
    "    \n",
    "    #keep: num of numberplate stored license plate candidate contours\n",
    "    # blackhat morphological operation to reveal dark characters\n",
    "    #(letters, digits, and symbols) against light backgrounds\n",
    "    def locate_license_plate_candidates(self, grayImg, keep=5):\n",
    "        rectKern = cv2.getStructuringElement(cv2.MORPH_RECT,(13, 5)) # rect shape(13x5), typical international license plate shape.\n",
    "        blackhat= cv2.morphologyEx(grayImg, cv2.MORPH_BLACKHAT, rectKern)\n",
    "        self.debug_show(\"Black_Hat\", blackhat)\n",
    "        \n",
    "        #region of light part images\n",
    "        squareKern = cv2.getStructuringElement(cv2.MORPH_RECT,(3,3))\n",
    "        light = cv2.morphologyEx(grayImg, cv2.MORPH_CLOSE, squareKern)\n",
    "        light = cv2.threshold(light, 0, 255, cv2.THRESH_BINARY | cv2.THRESH_OTSU)[1]\n",
    "        self.debug_show(\"light_region\", light)\n",
    "        \n",
    "        #he Scharr gradient will detect edges in the image and emphasize the boundaries of the characters in the license plate:\n",
    "        gradX = cv2.Sobel(blackhat, ddepth = cv2.CV_32F, dx=1, dy=0, ksize=-1)\n",
    "        gradX = np.absolute(gradX)\n",
    "        (minVal, maxVal)= (np.min(gradX), np.max(gradX))\n",
    "        gradX = 255 *((gradX- minVal)/ (maxVal- minVal))\n",
    "        gradX = gradX.astype(\"uint8\")\n",
    "        self.debug_show(\"Scgarr\", gradX)\n",
    "        \n",
    "        #smooth the group regions\n",
    "        gradX = cv2.GaussianBlur(gradX, (5,5), 0)\n",
    "        gradX = cv2.morphologyEx(gradX, cv2.MORPH_CLOSE, rectKern)\n",
    "        thresh = cv2.threshold(gradX, 0, 255,\n",
    "            cv2.THRESH_BINARY | cv2.THRESH_OTSU)[1]\n",
    "        \n",
    "        self.debug_show(\"Grad Thresh\", gradX)\n",
    "        \n",
    "        #clear other parts of white region\n",
    "        thresh = cv2.erode(thresh, None, iterations=2)\n",
    "        thresh = cv2.dilate(thresh, None, iterations=2)\n",
    "        self.debug_show(\"Grade erode/Dilate\", thresh)\n",
    "        \n",
    "        # still need to be clear, put our light regions\n",
    "        thresh = cv2.bitwise_and(thresh, thresh, mask= light)\n",
    "        thresh = cv2.dilate(thresh, None, iterations=2)\n",
    "        thresh = cv2.erode(thresh, None, iterations=1)\n",
    "        self.debug_show(\"Final\", thresh, waitkey=True)\n",
    "        \n",
    "        #sort contours\n",
    "        contours = cv2.findContours(thresh.copy(), cv2.RETR_EXTERNAL, cv2.CHAIN_APPROX_SIMPLE)\n",
    "        contours = imutils.grab_contours(contours)\n",
    "        contours = sorted(contours, key=cv2.contourArea, reverse=True)[:keep]\n",
    "        \n",
    "        return contours\n",
    "    \n",
    "    \n",
    "    def locate_license_plate(self, grayImg, candidates, clearBorder = False):\n",
    "        contours = None\n",
    "        roi = None\n",
    "        \n",
    "        for c in candidates:\n",
    "            (x, y, w, h) = cv2.boundingRect(c)\n",
    "            ar =  w/ float(h)\n",
    "            \n",
    "            #if aspectRatio is rectangular\n",
    "            if ar>=self.minAR and ar<=self.maxAR:\n",
    "                contours = c\n",
    "                licensePlate = grayImg[y:y+h, x:x+w]\n",
    "                #binary-inverse thresholded using Otsu’s method\n",
    "                roi = cv2.threshold(licensePlate, 0, 255, cv2.THRESH_BINARY_INV | cv2.THRESH_OTSU)[1]\n",
    "                \n",
    "                \n",
    "                #IF WE HAVE CLEAR FORGROUND, \n",
    "                if clearBorder:\n",
    "                    roi = clear_border(roi)\n",
    "                \n",
    "                self.debug_show(\"License Plate\", licensePlate)\n",
    "                self.debug_show(\"ROI, \", roi, waitkey= True)\n",
    "                break\n",
    "                \n",
    "        # return a 2-tuple of the license plate ROI and the contour\n",
    "        return (roi, contours)\n",
    "    \n",
    "    #psm => Tesseract Page Segmentation Mode\n",
    "    def build_tesseract_options(self, psm=7):\n",
    "        # tell Tesseract to only OCR alphanumeric characters\n",
    "        alphanumeric = \"ABCDEFGHIJKLMNOPQRSTUVWXYZ0123456789\"\n",
    "        options = \"-c tessedit_char_whitelist={}\".format(alphanumeric)\n",
    "        # set the PSM mode\n",
    "        options += \" --psm {}\".format(psm)\n",
    "        # return the built options string\n",
    "        return options\n",
    "    \n",
    "    def find_and_ocr(self, image, psm=7, clearBorder = False):\n",
    "        lpText = None\n",
    "     \n",
    "        gray = cv2.cvtColor(image, cv2.COLOR_BGR2GRAY)\n",
    "        candidates = self.locate_license_plate_candidates(gray)\n",
    "        (lp, lpCtn) = self.locate_license_plate(gray, candidates, clearBorder=clearBorder)\n",
    "        \n",
    "        if lp is not None:\n",
    "            #OCR =>plate\n",
    "            options = self.build_tesseract_options(psm=psm)\n",
    "            lpText =  pytesseract.image_to_string(lp, config=options)\n",
    "            self.debug_show(\"licence_Plate: \", lp)\n",
    "            \n",
    "        return (lpText, lpCtn)\n",
    "    \n",
    "    "
   ]
  },
  {
   "cell_type": "markdown",
   "metadata": {},
   "source": [
    "## Test image"
   ]
  },
  {
   "cell_type": "code",
   "execution_count": 86,
   "metadata": {},
   "outputs": [],
   "source": [
    "def cleanUp_text(text):\n",
    "    # strip out non-ASCII text so we can draw the text on the image\n",
    "\t# using OpenCV\n",
    "\treturn \"\".join([c if ord(c) < 128 else \"\" for c in text]).strip()"
   ]
  },
  {
   "cell_type": "code",
   "execution_count": 97,
   "metadata": {},
   "outputs": [],
   "source": [
    "image = cv2.imread(r'testImages/carPlate.png')\n",
    "image = imutils.resize(image, width=600)\n",
    "# cv2.imshow(\"img:\" , image)\n",
    "# cv2.waitKey(0)\n",
    "# cv2.destroyAllWindows()"
   ]
  },
  {
   "cell_type": "code",
   "execution_count": 98,
   "metadata": {},
   "outputs": [],
   "source": [
    "anpr = ANPR()"
   ]
  },
  {
   "cell_type": "code",
   "execution_count": 99,
   "metadata": {},
   "outputs": [],
   "source": [
    "# apply automatic license plate recognition\n",
    "(lpText, lpCnt) = anpr.find_and_ocr(image, psm=7,\n",
    "    clearBorder=True)"
   ]
  },
  {
   "cell_type": "code",
   "execution_count": 100,
   "metadata": {},
   "outputs": [
    {
     "name": "stdout",
     "output_type": "stream",
     "text": [
      "13\n"
     ]
    }
   ],
   "source": [
    "print(len(lpText))"
   ]
  },
  {
   "cell_type": "code",
   "execution_count": 101,
   "metadata": {},
   "outputs": [],
   "source": [
    "box = cv2.boxPoints(cv2.minAreaRect(lpCnt))\n",
    "box = box.astype(\"int\")\n",
    "cv2.drawContours(image, [box], -1, (0, 0, 233), 2)\n",
    "\n",
    "(x, y, w, h) = cv2.boundingRect(lpCnt)\n",
    "cv2.putText(image, cleanUp_text(lpText), (x, y-10), cv2.FONT_HERSHEY_COMPLEX_SMALL, 1.0, (233,3,3),2)\n",
    "\n",
    "cv2.imshow(\"outPut\", image)\n",
    "cv2.waitKey(0)\n",
    "cv2.destroyAllWindows()"
   ]
  },
  {
   "cell_type": "code",
   "execution_count": null,
   "metadata": {},
   "outputs": [],
   "source": []
  }
 ],
 "metadata": {
  "kernelspec": {
   "display_name": "Python 3",
   "language": "python",
   "name": "python3"
  },
  "language_info": {
   "codemirror_mode": {
    "name": "ipython",
    "version": 3
   },
   "file_extension": ".py",
   "mimetype": "text/x-python",
   "name": "python",
   "nbconvert_exporter": "python",
   "pygments_lexer": "ipython3",
   "version": "3.8.5"
  }
 },
 "nbformat": 4,
 "nbformat_minor": 4
}
