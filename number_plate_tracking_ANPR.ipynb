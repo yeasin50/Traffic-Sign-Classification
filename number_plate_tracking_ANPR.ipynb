{
 "cells": [
  {
   "cell_type": "markdown",
   "metadata": {},
   "source": [
    "<center><font size=3> Automatic License/Number Plate Recognition (ANPR) "
   ]
  },
  {
   "cell_type": "code",
   "execution_count": 1,
   "metadata": {},
   "outputs": [],
   "source": [
    "from skimage.segmentation import clear_border\n",
    "import numpy as np\n",
    "import pytesseract\n",
    "import imutils\n",
    "import cv2"
   ]
  },
  {
   "cell_type": "code",
   "execution_count": 13,
   "metadata": {},
   "outputs": [],
   "source": [
    "class ANPR:\n",
    "    def __init__(self, minAR=4, maxAR=5, debug=False):\n",
    "        self.minAR = minAR # minimum aspect ratio used to detect and filter rectangular license plates\n",
    "        self.maxAR = maxAR\n",
    "        self.debug = debug #should display intermediate results in our image processing pipeline\n",
    "        \n",
    "    \n",
    "    \n",
    "    def debug_show(self, title, image, waitkey=False):\n",
    "        if self.debug:\n",
    "            cv2.imshow(title, image)\n",
    "            \n",
    "            if waitkey: # for single case \n",
    "                cv2.waitKey(0)\n",
    "    \n",
    "    #keep: num of numberplate stored license plate candidate contours\n",
    "    # blackhat morphological operation to reveal dark characters\n",
    "    #(letters, digits, and symbols) against light backgrounds\n",
    "    def locate_license_plate_candidates(self, grayImg, keep=5):\n",
    "        rectKern = cv2.getStructuringElement(cv2.MORPH_RECT,(13, 5)) # rect shape(13x5), typical international license plate shape.\n",
    "        blackhat= cv2.morphologyEx(grayImg, cv2.MORPH_BLACKHAT, rectKern)\n",
    "        self.debug_show(\"Black_Hat\", blackhat)\n",
    "        \n",
    "        #region of light part images\n",
    "        squareKern = cv2.getStructuringElement(cv2.MORPH_RECT,(3,3))\n",
    "        light = cv2.morphologyEx(grayImg, cv2.MORPH_CLOSE, squareKern)\n",
    "        light = cv2.threshold(light, 0, 255, cv2.THRESH_BINARY | cv2.THRESH_OTSU)\n",
    "        self.debug_show(\"light_region\", light)\n",
    "        \n",
    "        #he Scharr gradient will detect edges in the image and emphasize the boundaries of the characters in the license plate:\n",
    "        gradX = cv2.Sobel(blackhat, ddepth = cv2.CV_32F, dx=1, dy=0, ksize=-1)\n",
    "        gradX = np.absolute(gradX)\n",
    "        (minVal, maxVal)= (np.min(gradX), np.max(gradX))\n",
    "        gradX = 255 *((gradX- minVal)/ (maxVal- minVal))\n",
    "        self.debug_show(\"Scgarr\", gradX)\n",
    "        \n",
    "        #smooth the group regions\n",
    "        gradX = cv2.GaussianBlur(gradX, (5,5), 0)\n",
    "        gradX = cv2.morphologyEx(gradX, cv2.MORPH_CLOSE, rectKern)\n",
    "        thresh = cv2.threshold(gradX, 0,255, cv2.THRESH_BINARY | cv2.THRESH_OTSU)[1]\n",
    "        self.debug_show(\"Grad Thresh\", thresh)\n",
    "        \n",
    "        #clear other parts of white region\n",
    "        thresh = cv2.erode(thresh, None, iteration=2)\n",
    "        thresh = cv2.dilate(thresh, None, iteration=2)\n",
    "        self.debug_show(\"Grade erode/Dilate\", thresh)\n",
    "        \n",
    "        # still need to be clear, put our light regions\n",
    "        thresh = cv2.bitwise_and(thresh, thresh, mask= light)\n",
    "        thresh = cv2.dilate(thresh, None, iteration=2)\n",
    "        thresh = cv2.erode(thresh, None, iteration=1)\n",
    "        self.debug_show(\"Final\", thresh, waitkey=True)\n",
    "        \n",
    "        #sort contours\n",
    "        contours = cv2.findContours(thresh.copy(), cv2.RETR_EXTERNAL, cv2.CHAIN_APPROX_SIMPLE)\n",
    "        contours = imutils.grab_contours(contours)\n",
    "        contours = sorted(contours, key=cv2.contourArea, reverse=True)[:keep]\n",
    "        \n",
    "        return contours\n",
    "    \n",
    "    \n",
    "    def locate_license_plate(self, grayImg, candidates, clearBorder = False):\n",
    "        contours = None\n",
    "        roi = None\n",
    "        \n",
    "        for c in candidates:\n",
    "            (x, y, w, h) = cv2.boundingRect(c)\n",
    "            ar =  w/ float(h)\n",
    "            \n",
    "            #if aspectRatio is rectangular\n",
    "            if ar>=self.minAR and ar<=self.maxAR:\n",
    "                contours = c\n",
    "                licensePlate = grayImg[y:y+h, x:x+w]\n",
    "                #binary-inverse thresholded using Otsu’s method\n",
    "                roi = cv2.threshold(licensePlate, 0, 255, cv2.THRESH_BINARY_INV | cv2.THRESH_OTSU)[1]\n",
    "                \n",
    "                \n",
    "                #IF WE HAVE CLEAR FORGROUND, \n",
    "                if clearBorder:\n",
    "                    roi = clear_border(roi)\n",
    "                \n",
    "                self.debug_show(\"License Plate\", licensePlate)\n",
    "                self.debug_show(\"ROI, \", roi, waitkey= True)\n",
    "                break\n",
    "                \n",
    "        # return a 2-tuple of the license plate ROI and the contour\n",
    "        return (roi, contours)\n",
    "    \n",
    "    #psm => Tesseract Page Segmentation Mode\n",
    "    def build_tesseract_options(self, psm=7):\n",
    "        # tell Tesseract to only OCR alphanumeric characters\n",
    "        alphanumeric = \"ABCDEFGHIJKLMNOPQRSTUVWXYZ0123456789\"\n",
    "        options = \"-c tessedit_char_whitelist={}\".format(alphanumeric)\n",
    "        # set the PSM mode\n",
    "        options += \" --psm {}\".format(psm)\n",
    "        # return the built options string\n",
    "        return options\n",
    "    \n",
    "    def find_and_ocr(self, image, psm=7, clearBorder = False):\n",
    "        lpText = None\n",
    "        \n",
    "        gray = cv2.cvtColor(image, cv2.COLOR_BGR2GRAY)\n",
    "        candidates = self.locate_license_plate_candidates(gray)\n",
    "        (lp, lpCtn) = self.locate_license_plate(gray, candidates, clearBorder=clearBorder)\n",
    "        \n",
    "        if lp is not None:\n",
    "            #OCR =>plate\n",
    "            options = self.build_tesseract_options(psm=psm)\n",
    "            lpText =  pytesseract.image_to_string(lp, config=options)\n",
    "            self.debug_show(\"licence_Plate: \", lp)\n",
    "            \n",
    "        return (lpText, lpCtn)\n",
    "    \n",
    "    "
   ]
  },
  {
   "cell_type": "markdown",
   "metadata": {},
   "source": [
    "## Test image"
   ]
  },
  {
   "cell_type": "code",
   "execution_count": 14,
   "metadata": {},
   "outputs": [],
   "source": [
    "def cleanUp_text(text):\n",
    "    # strip out non-ASCII text so we can draw the text on the image\n",
    "\t# using OpenCV\n",
    "\treturn \"\".join([c if ord(c) < 128 else \"\" for c in text]).strip()"
   ]
  },
  {
   "cell_type": "code",
   "execution_count": 15,
   "metadata": {},
   "outputs": [],
   "source": [
    "image = cv2.imread(r'testImages/numberPLate.jpg')\n",
    "image = imutils.resize(image, width=600)"
   ]
  },
  {
   "cell_type": "code",
   "execution_count": 16,
   "metadata": {},
   "outputs": [],
   "source": [
    "anpr = ANPR()"
   ]
  },
  {
   "cell_type": "code",
   "execution_count": 18,
   "metadata": {},
   "outputs": [
    {
     "ename": "error",
     "evalue": "OpenCV(4.5.1) C:\\Users\\appveyor\\AppData\\Local\\Temp\\1\\pip-req-build-kh7iq4w7\\opencv\\modules\\imgproc\\src\\thresh.cpp:1557: error: (-2:Unspecified error) in function 'double __cdecl cv::threshold(const class cv::_InputArray &,const class cv::_OutputArray &,double,double,int)'\n> THRESH_OTSU mode:\n>     'src_type == CV_8UC1 || src_type == CV_16UC1'\n> where\n>     'src_type' is 5 (CV_32FC1)\n",
     "output_type": "error",
     "traceback": [
      "\u001b[1;31m---------------------------------------------------------------------------\u001b[0m",
      "\u001b[1;31merror\u001b[0m                                     Traceback (most recent call last)",
      "\u001b[1;32m<ipython-input-18-dfd66ca93051>\u001b[0m in \u001b[0;36m<module>\u001b[1;34m\u001b[0m\n\u001b[0;32m      1\u001b[0m \u001b[1;31m# apply automatic license plate recognition\u001b[0m\u001b[1;33m\u001b[0m\u001b[1;33m\u001b[0m\u001b[1;33m\u001b[0m\u001b[0m\n\u001b[1;32m----> 2\u001b[1;33m (lpText, lpCnt) = anpr.find_and_ocr(image, psm=7,\n\u001b[0m\u001b[0;32m      3\u001b[0m     clearBorder=False)\n",
      "\u001b[1;32m<ipython-input-13-9893080cc4d8>\u001b[0m in \u001b[0;36mfind_and_ocr\u001b[1;34m(self, image, psm, clearBorder)\u001b[0m\n\u001b[0;32m    101\u001b[0m \u001b[1;33m\u001b[0m\u001b[0m\n\u001b[0;32m    102\u001b[0m         \u001b[0mgray\u001b[0m \u001b[1;33m=\u001b[0m \u001b[0mcv2\u001b[0m\u001b[1;33m.\u001b[0m\u001b[0mcvtColor\u001b[0m\u001b[1;33m(\u001b[0m\u001b[0mimage\u001b[0m\u001b[1;33m,\u001b[0m \u001b[0mcv2\u001b[0m\u001b[1;33m.\u001b[0m\u001b[0mCOLOR_BGR2GRAY\u001b[0m\u001b[1;33m)\u001b[0m\u001b[1;33m\u001b[0m\u001b[1;33m\u001b[0m\u001b[0m\n\u001b[1;32m--> 103\u001b[1;33m         \u001b[0mcandidates\u001b[0m \u001b[1;33m=\u001b[0m \u001b[0mself\u001b[0m\u001b[1;33m.\u001b[0m\u001b[0mlocate_license_plate_candidates\u001b[0m\u001b[1;33m(\u001b[0m\u001b[0mgray\u001b[0m\u001b[1;33m)\u001b[0m\u001b[1;33m\u001b[0m\u001b[1;33m\u001b[0m\u001b[0m\n\u001b[0m\u001b[0;32m    104\u001b[0m         \u001b[1;33m(\u001b[0m\u001b[0mlp\u001b[0m\u001b[1;33m,\u001b[0m \u001b[0mlpCtn\u001b[0m\u001b[1;33m)\u001b[0m \u001b[1;33m=\u001b[0m \u001b[0mself\u001b[0m\u001b[1;33m.\u001b[0m\u001b[0mlocate_license_plate\u001b[0m\u001b[1;33m(\u001b[0m\u001b[0mgray\u001b[0m\u001b[1;33m,\u001b[0m \u001b[0mcandidates\u001b[0m\u001b[1;33m,\u001b[0m \u001b[0mclearBorder\u001b[0m\u001b[1;33m=\u001b[0m\u001b[0mclearBorder\u001b[0m\u001b[1;33m)\u001b[0m\u001b[1;33m\u001b[0m\u001b[1;33m\u001b[0m\u001b[0m\n\u001b[0;32m    105\u001b[0m \u001b[1;33m\u001b[0m\u001b[0m\n",
      "\u001b[1;32m<ipython-input-13-9893080cc4d8>\u001b[0m in \u001b[0;36mlocate_license_plate_candidates\u001b[1;34m(self, grayImg, keep)\u001b[0m\n\u001b[0;32m     38\u001b[0m         \u001b[0mgradX\u001b[0m \u001b[1;33m=\u001b[0m \u001b[0mcv2\u001b[0m\u001b[1;33m.\u001b[0m\u001b[0mGaussianBlur\u001b[0m\u001b[1;33m(\u001b[0m\u001b[0mgradX\u001b[0m\u001b[1;33m,\u001b[0m \u001b[1;33m(\u001b[0m\u001b[1;36m5\u001b[0m\u001b[1;33m,\u001b[0m\u001b[1;36m5\u001b[0m\u001b[1;33m)\u001b[0m\u001b[1;33m,\u001b[0m \u001b[1;36m0\u001b[0m\u001b[1;33m)\u001b[0m\u001b[1;33m\u001b[0m\u001b[1;33m\u001b[0m\u001b[0m\n\u001b[0;32m     39\u001b[0m         \u001b[0mgradX\u001b[0m \u001b[1;33m=\u001b[0m \u001b[0mcv2\u001b[0m\u001b[1;33m.\u001b[0m\u001b[0mmorphologyEx\u001b[0m\u001b[1;33m(\u001b[0m\u001b[0mgradX\u001b[0m\u001b[1;33m,\u001b[0m \u001b[0mcv2\u001b[0m\u001b[1;33m.\u001b[0m\u001b[0mMORPH_CLOSE\u001b[0m\u001b[1;33m,\u001b[0m \u001b[0mrectKern\u001b[0m\u001b[1;33m)\u001b[0m\u001b[1;33m\u001b[0m\u001b[1;33m\u001b[0m\u001b[0m\n\u001b[1;32m---> 40\u001b[1;33m         \u001b[0mthresh\u001b[0m \u001b[1;33m=\u001b[0m \u001b[0mcv2\u001b[0m\u001b[1;33m.\u001b[0m\u001b[0mthreshold\u001b[0m\u001b[1;33m(\u001b[0m\u001b[0mgradX\u001b[0m\u001b[1;33m,\u001b[0m \u001b[1;36m0\u001b[0m\u001b[1;33m,\u001b[0m\u001b[1;36m255\u001b[0m\u001b[1;33m,\u001b[0m \u001b[0mcv2\u001b[0m\u001b[1;33m.\u001b[0m\u001b[0mTHRESH_BINARY\u001b[0m \u001b[1;33m|\u001b[0m \u001b[0mcv2\u001b[0m\u001b[1;33m.\u001b[0m\u001b[0mTHRESH_OTSU\u001b[0m\u001b[1;33m)\u001b[0m\u001b[1;33m[\u001b[0m\u001b[1;36m1\u001b[0m\u001b[1;33m]\u001b[0m\u001b[1;33m\u001b[0m\u001b[1;33m\u001b[0m\u001b[0m\n\u001b[0m\u001b[0;32m     41\u001b[0m         \u001b[0mself\u001b[0m\u001b[1;33m.\u001b[0m\u001b[0mdebug_show\u001b[0m\u001b[1;33m(\u001b[0m\u001b[1;34m\"Grad Thresh\"\u001b[0m\u001b[1;33m,\u001b[0m \u001b[0mthresh\u001b[0m\u001b[1;33m)\u001b[0m\u001b[1;33m\u001b[0m\u001b[1;33m\u001b[0m\u001b[0m\n\u001b[0;32m     42\u001b[0m \u001b[1;33m\u001b[0m\u001b[0m\n",
      "\u001b[1;31merror\u001b[0m: OpenCV(4.5.1) C:\\Users\\appveyor\\AppData\\Local\\Temp\\1\\pip-req-build-kh7iq4w7\\opencv\\modules\\imgproc\\src\\thresh.cpp:1557: error: (-2:Unspecified error) in function 'double __cdecl cv::threshold(const class cv::_InputArray &,const class cv::_OutputArray &,double,double,int)'\n> THRESH_OTSU mode:\n>     'src_type == CV_8UC1 || src_type == CV_16UC1'\n> where\n>     'src_type' is 5 (CV_32FC1)\n"
     ]
    }
   ],
   "source": [
    "# apply automatic license plate recognition\n",
    "(lpText, lpCnt) = anpr.find_and_ocr(image, psm=7,\n",
    "    clearBorder=False)"
   ]
  },
  {
   "cell_type": "code",
   "execution_count": null,
   "metadata": {},
   "outputs": [],
   "source": []
  }
 ],
 "metadata": {
  "kernelspec": {
   "display_name": "Python 3",
   "language": "python",
   "name": "python3"
  },
  "language_info": {
   "codemirror_mode": {
    "name": "ipython",
    "version": 3
   },
   "file_extension": ".py",
   "mimetype": "text/x-python",
   "name": "python",
   "nbconvert_exporter": "python",
   "pygments_lexer": "ipython3",
   "version": "3.8.5"
  }
 },
 "nbformat": 4,
 "nbformat_minor": 4
}
