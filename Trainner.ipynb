{
 "cells": [
  {
   "cell_type": "markdown",
   "metadata": {},
   "source": [
    "## <center> Trainner Script \n",
    "we are using our custom TrafficSignNet "
   ]
  },
  {
   "cell_type": "code",
   "execution_count": 2,
   "metadata": {},
   "outputs": [],
   "source": [
    "from traffic_sign_net import TrafficSignNet # custom Sequential model\n",
    "from tensorflow.keras.preprocessing.image import ImageDataGenerator\n",
    "from tensorflow.keras.optimizers import Adam\n",
    "from tensorflow.keras.utils import to_categorical\n",
    "\n",
    "from sklearn.metrics import classification_report"
   ]
  },
  {
   "cell_type": "markdown",
   "metadata": {},
   "source": [
    "We will use scikit-image for preprocessing our dataset in lieu of OpenCV as scikit-image provides some additional preprocessing algorithms that OpenCV does not "
   ]
  },
  {
   "cell_type": "code",
   "execution_count": 5,
   "metadata": {},
   "outputs": [],
   "source": [
    "from skimage import transform\n",
    "from skimage import exposure\n",
    "from skimage import io"
   ]
  },
  {
   "cell_type": "code",
   "execution_count": 8,
   "metadata": {},
   "outputs": [],
   "source": [
    "from tqdm.notebook import tqdm\n",
    "import matplotlib.pyplot as plt\n",
    "import numpy as np\n",
    "import random\n",
    "import os"
   ]
  },
  {
   "cell_type": "markdown",
   "metadata": {},
   "source": [
    "initialize the list of data and labels"
   ]
  },
  {
   "cell_type": "code",
   "execution_count": 10,
   "metadata": {},
   "outputs": [],
   "source": [
    "def load_split(basePath, csvPath):\n",
    "    data = []\n",
    "    labels = []\n",
    "    \n",
    "    #The format of the data is: Width, Height, X1, Y1, X2, Y2, ClassID, Image Path\n",
    "    rows = open(csvPath).read().strip().split('\\n')[1:] # skipping the first header row\n",
    "    random.shuffle(rows)\n",
    "    \n",
    "    #progressBar\n",
    "    pbar = tqdm(total=len(rows), desc=\"loaded:\")\n",
    "    for (i, row) in enumerate(rows):\n",
    "        (label, imagePath) = row.strip().split(\",\")[-2:]\n",
    "        \n",
    "        imagePath = os.path.sep.join([basePath, imagePath])\n",
    "        image = io.imread(imagePath)\n",
    "        \n",
    "        #images by applying CLAHE\n",
    "        image = transform.resize(image, (32, 32)) #resize\n",
    "        image = exposure.equalize_adapthist(image, clip_limit=0.1)\n",
    "        \n",
    "        data.append(image)\n",
    "        labels.append(int(label))\n",
    "        \n",
    "        pbar.update(1) #progessBAr\n",
    "    pbar.close()\n",
    "        \n",
    "    \n",
    "    #convert to numpy\n",
    "    data = np.array(data)\n",
    "    labels = np.array(labels)\n",
    "    \n",
    "    return (data, labels)"
   ]
  },
  {
   "cell_type": "code",
   "execution_count": 12,
   "metadata": {},
   "outputs": [
    {
     "name": "stdout",
     "output_type": "stream",
     "text": [
      "numOf Sign Can  be detect  43\n"
     ]
    }
   ],
   "source": [
    "# epochs to train for, base learning rate and batch size\n",
    "EPOCHS = 30\n",
    "INIT_LR = 1e-3 # 0.001\n",
    "BS = 64\n",
    "\n",
    "# load the label names\n",
    "labelNames = open(\"signnames.csv\").read().strip().split(\"\\n\")[1:] #except header\n",
    "labelNames = [l.split(\",\")[1] for l in labelNames]\n",
    "print(\"numOf Sign Can  be detect \", len(labelNames))"
   ]
  },
  {
   "cell_type": "code",
   "execution_count": 13,
   "metadata": {},
   "outputs": [
    {
     "name": "stdout",
     "output_type": "stream",
     "text": [
      "🔃: loading dataset\n"
     ]
    },
    {
     "data": {
      "application/vnd.jupyter.widget-view+json": {
       "model_id": "c9faaca67fe14e0d88d1176790fecbde",
       "version_major": 2,
       "version_minor": 0
      },
      "text/plain": [
       "loaded::   0%|          | 0/39209 [00:00<?, ?it/s]"
      ]
     },
     "metadata": {},
     "output_type": "display_data"
    },
    {
     "data": {
      "application/vnd.jupyter.widget-view+json": {
       "model_id": "ec00dfba084e4ebcbb1bb48c618694a8",
       "version_major": 2,
       "version_minor": 0
      },
      "text/plain": [
       "loaded::   0%|          | 0/12630 [00:00<?, ?it/s]"
      ]
     },
     "metadata": {},
     "output_type": "display_data"
    }
   ],
   "source": [
    "trainPath = r'dataset/Train.csv'\n",
    "textPath = r'dataset/Test.csv'\n",
    "\n",
    "print(\"🔃: loading dataset\")\n",
    "(trainX, trainY) =  load_split(\"dataset\", trainPath)\n",
    "(testX, testY) = load_split(\"dataset\", textPath)"
   ]
  },
  {
   "cell_type": "code",
   "execution_count": 14,
   "metadata": {},
   "outputs": [],
   "source": [
    "#scale range [0, 1]\n",
    "trainX = trainX.astype(\"float32\") /255.0\n",
    "testX = testX.astype(\"float32\") /255.0"
   ]
  },
  {
   "cell_type": "code",
   "execution_count": 16,
   "metadata": {},
   "outputs": [],
   "source": [
    "#oneHot encode the train & testing labels\n",
    "numOfLabel = len(np.unique(trainY))\n",
    "trainY = to_categorical(trainY, numOfLabel)\n",
    "testY = to_categorical(testY, numOfLabel)"
   ]
  },
  {
   "cell_type": "markdown",
   "metadata": {},
   "source": [
    "we have significantly more images for some classes than others"
   ]
  },
  {
   "cell_type": "code",
   "execution_count": 18,
   "metadata": {},
   "outputs": [],
   "source": [
    "# account for skew in the labeled data \n",
    "classTotals = trainY.sum(axis=0)\n",
    "classWeight = classTotals.max() / classTotals"
   ]
  },
  {
   "cell_type": "markdown",
   "metadata": {},
   "source": [
    "#### image generator for data augmentation \n",
    " we’re not applying horizontal or vertical flips here as \n",
    "traffic signs in the wild will not be flipped."
   ]
  },
  {
   "cell_type": "code",
   "execution_count": 20,
   "metadata": {},
   "outputs": [],
   "source": [
    "aug = ImageDataGenerator(\n",
    "    rotation_range=10,\n",
    "    zoom_range=0.15,\n",
    "    width_shift_range=0.1,\n",
    "    height_shift_range=0.1,\n",
    "    shear_range=0.15,\n",
    "    horizontal_flip=False,\n",
    "    vertical_flip=False,\n",
    "    fill_mode=\"nearest\")"
   ]
  },
  {
   "cell_type": "code",
   "execution_count": null,
   "metadata": {},
   "outputs": [],
   "source": []
  }
 ],
 "metadata": {
  "kernelspec": {
   "display_name": "Python 3",
   "language": "python",
   "name": "python3"
  },
  "language_info": {
   "codemirror_mode": {
    "name": "ipython",
    "version": 3
   },
   "file_extension": ".py",
   "mimetype": "text/x-python",
   "name": "python",
   "nbconvert_exporter": "python",
   "pygments_lexer": "ipython3",
   "version": "3.8.5"
  }
 },
 "nbformat": 4,
 "nbformat_minor": 4
}
