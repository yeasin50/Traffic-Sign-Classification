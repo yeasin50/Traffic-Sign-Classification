{
 "cells": [
  {
   "cell_type": "markdown",
   "metadata": {},
   "source": [
    "## <center> Trainner Script \n",
    "we are using our custom TrafficSignNet "
   ]
  },
  {
   "cell_type": "code",
   "execution_count": 1,
   "metadata": {},
   "outputs": [],
   "source": [
    "from traffic_sign_net import TrafficSignNet # custom Sequential model\n",
    "from tensorflow.keras.preprocessing.image import ImageDataGenerator\n",
    "from tensorflow.keras.optimizers import Adam\n",
    "from tensorflow.keras.utils import to_categorical\n",
    "from sklearn.metrics import classification_report"
   ]
  },
  {
   "cell_type": "markdown",
   "metadata": {},
   "source": [
    "We will use scikit-image for preprocessing our dataset in lieu of OpenCV as scikit-image provides some additional preprocessing algorithms that OpenCV does not "
   ]
  },
  {
   "cell_type": "code",
   "execution_count": 2,
   "metadata": {},
   "outputs": [],
   "source": [
    "from skimage import transform\n",
    "from skimage import exposure\n",
    "from skimage import io"
   ]
  },
  {
   "cell_type": "code",
   "execution_count": 3,
   "metadata": {},
   "outputs": [],
   "source": [
    "from tqdm.notebook import tqdm\n",
    "import matplotlib.pyplot as plt\n",
    "import numpy as np\n",
    "import random\n",
    "import os"
   ]
  },
  {
   "cell_type": "markdown",
   "metadata": {},
   "source": [
    "initialize the list of data and labels"
   ]
  },
  {
   "cell_type": "code",
   "execution_count": 4,
   "metadata": {},
   "outputs": [],
   "source": [
    "def load_split(basePath, csvPath):\n",
    "    data = []\n",
    "    labels = []\n",
    "    \n",
    "    #The format of the data is: Width, Height, X1, Y1, X2, Y2, ClassID, Image Path\n",
    "    rows = open(csvPath).read().strip().split('\\n')[1:] # skipping the first header row\n",
    "    random.shuffle(rows)\n",
    "    \n",
    "    #progressBar\n",
    "    pbar = tqdm(total=len(rows), desc=\"loaded:\")\n",
    "    for (i, row) in enumerate(rows):\n",
    "        (label, imagePath) = row.strip().split(\",\")[-2:]\n",
    "        \n",
    "        imagePath = os.path.sep.join([basePath, imagePath])\n",
    "        image = io.imread(imagePath)\n",
    "        \n",
    "        #images by applying CLAHE\n",
    "        image = transform.resize(image, (32, 32)) #resize\n",
    "        image = exposure.equalize_adapthist(image, clip_limit=0.1)\n",
    "        \n",
    "        data.append(image)\n",
    "        labels.append(int(label))\n",
    "        \n",
    "        \n",
    "        pbar.update(1) #progessBAr\n",
    "    pbar.close()\n",
    "        \n",
    "    \n",
    "    #convert to numpy\n",
    "    data = np.array(data)\n",
    "    labels = np.array(labels)\n",
    "    \n",
    "    return (data, labels)"
   ]
  },
  {
   "cell_type": "code",
   "execution_count": 5,
   "metadata": {},
   "outputs": [
    {
     "name": "stdout",
     "output_type": "stream",
     "text": [
      "numOf Sign Can  be detect  43\n"
     ]
    }
   ],
   "source": [
    "# epochs to train for, base learning rate and batch size\n",
    "EPOCHS = 30\n",
    "INIT_LR = 1e-3 # 0.001\n",
    "BS = 64\n",
    "\n",
    "# load the label names\n",
    "labelNames = open(\"signnames.csv\").read().strip().split(\"\\n\")[1:] #except header\n",
    "labelNames = [l.split(\",\")[1] for l in labelNames]\n",
    "print(\"numOf Sign Can  be detect \", len(labelNames))"
   ]
  },
  {
   "cell_type": "code",
   "execution_count": 6,
   "metadata": {},
   "outputs": [
    {
     "name": "stdout",
     "output_type": "stream",
     "text": [
      "🔃: loading dataset\n"
     ]
    },
    {
     "data": {
      "application/vnd.jupyter.widget-view+json": {
       "model_id": "a6a01b686fc6436eb0d2468ddd785d77",
       "version_major": 2,
       "version_minor": 0
      },
      "text/plain": [
       "loaded::   0%|          | 0/39209 [00:00<?, ?it/s]"
      ]
     },
     "metadata": {},
     "output_type": "display_data"
    },
    {
     "data": {
      "application/vnd.jupyter.widget-view+json": {
       "model_id": "749207ffdcee48ceaf4bbf6f8a7c4adb",
       "version_major": 2,
       "version_minor": 0
      },
      "text/plain": [
       "loaded::   0%|          | 0/12630 [00:00<?, ?it/s]"
      ]
     },
     "metadata": {},
     "output_type": "display_data"
    }
   ],
   "source": [
    "trainPath = r'dataset/Train.csv'\n",
    "textPath = r'dataset/Test.csv'\n",
    "\n",
    "print(\"🔃: loading dataset\")\n",
    "(trainX, trainY) =  load_split(\"dataset\", trainPath) #data , label\n",
    "(testX, testY) = load_split(\"dataset\", textPath)"
   ]
  },
  {
   "cell_type": "code",
   "execution_count": 13,
   "metadata": {},
   "outputs": [],
   "source": [
    "#scale range [0, 1]\n",
    "trainX = trainX.astype(\"float32\") /255.0\n",
    "testX = testX.astype(\"float32\") /255.0"
   ]
  },
  {
   "cell_type": "code",
   "execution_count": 14,
   "metadata": {},
   "outputs": [
    {
     "name": "stdout",
     "output_type": "stream",
     "text": [
      "(39209, 32, 32, 3) (39209,) (12630, 32, 32, 3) (12630,)\n"
     ]
    }
   ],
   "source": [
    "print( trainX.shape, trainY.shape, testX.shape, testY.shape)"
   ]
  },
  {
   "cell_type": "code",
   "execution_count": 15,
   "metadata": {},
   "outputs": [],
   "source": [
    "#oneHot encode the train & testing labels\n",
    "numOfLabel = len(np.unique(trainY))\n",
    "trainY = to_categorical(trainY, numOfLabel)\n",
    "testY = to_categorical(testY, numOfLabel)"
   ]
  },
  {
   "cell_type": "markdown",
   "metadata": {},
   "source": [
    "we have significantly more images for some classes than others"
   ]
  },
  {
   "cell_type": "code",
   "execution_count": 16,
   "metadata": {},
   "outputs": [],
   "source": [
    "# account for skew in the labeled data \n",
    "classTotals = trainY.sum(axis=0)\n",
    "classWeight = classTotals.max() / classTotals"
   ]
  },
  {
   "cell_type": "code",
   "execution_count": 17,
   "metadata": {},
   "outputs": [
    {
     "name": "stdout",
     "output_type": "stream",
     "text": [
      "43 43\n"
     ]
    }
   ],
   "source": [
    "print(len(classTotals),len(classWeight) )"
   ]
  },
  {
   "cell_type": "markdown",
   "metadata": {},
   "source": [
    "#### image generator for data augmentation \n",
    " we’re not applying horizontal or vertical flips here as \n",
    "traffic signs in the wild will not be flipped."
   ]
  },
  {
   "cell_type": "code",
   "execution_count": 18,
   "metadata": {},
   "outputs": [],
   "source": [
    "aug = ImageDataGenerator(\n",
    "    rotation_range=10,\n",
    "    zoom_range=0.15,\n",
    "    width_shift_range=0.1,\n",
    "    height_shift_range=0.1,\n",
    "    shear_range=0.15,\n",
    "    horizontal_flip=False,\n",
    "    vertical_flip=False,\n",
    "    fill_mode=\"nearest\")"
   ]
  },
  {
   "cell_type": "markdown",
   "metadata": {},
   "source": [
    "initialize the optimizer and compile the model"
   ]
  },
  {
   "cell_type": "code",
   "execution_count": 19,
   "metadata": {},
   "outputs": [],
   "source": [
    "opt = Adam(lr=INIT_LR, decay=INIT_LR / (EPOCHS * 0.5))\n",
    "model = TrafficSignNet.build(width=32, height=32, channel=3, classes=numOfLabel)\n",
    "model.compile(loss=\"categorical_crossentropy\", optimizer=opt, metrics=[\"accuracy\"])"
   ]
  },
  {
   "cell_type": "markdown",
   "metadata": {},
   "source": [
    "## <center> Train the network\n",
    "In keras, fit() is much similar to sklearn's fit method, where you pass array of features as x values and target as y values. You pass your whole dataset at once in fit method. Also, use it if you can load whole data into your memory (small dataset).\n",
    "\n",
    "In fit_generator(), you don't pass the x and y directly, instead they come from a generator. As it is written in keras documentation, generator is used when you want to avoid duplicate data when using multiprocessing. This is for practical purpose, when you have large dataset.\n",
    "    \n",
    "#### Warning: THIS FUNCTION IS DEPRECATED.    \n",
    "It will be removed in a future version. Instructions for updating: Please use Model.fit, which supports generators."
   ]
  },
  {
   "cell_type": "code",
   "execution_count": 21,
   "metadata": {},
   "outputs": [
    {
     "name": "stdout",
     "output_type": "stream",
     "text": [
      "trainX shape: (39209, 32, 32, 3) trainY shape:  (39209, 43) \n",
      "testX shape:  (12630, 32, 32, 3) testY  (12630, 43)\n"
     ]
    }
   ],
   "source": [
    "print(\"trainX shape:\", trainX.shape, \"trainY shape: \", trainY.shape, \"\\n\"\n",
    "     \"testX shape: \", testX.shape, \"testY \", testY.shape)"
   ]
  },
  {
   "cell_type": "code",
   "execution_count": 25,
   "metadata": {},
   "outputs": [
    {
     "name": "stdout",
     "output_type": "stream",
     "text": [
      "Epoch 1/30\n",
      "612/612 [==============================] - 44s 68ms/step - loss: 3.4254 - accuracy: 0.1895 - val_loss: 2.5293 - val_accuracy: 0.2724\n",
      "Epoch 2/30\n",
      "612/612 [==============================] - 41s 67ms/step - loss: 1.4962 - accuracy: 0.5310 - val_loss: 0.7882 - val_accuracy: 0.7245\n",
      "Epoch 3/30\n",
      "612/612 [==============================] - 41s 67ms/step - loss: 1.0179 - accuracy: 0.6642 - val_loss: 0.5138 - val_accuracy: 0.8375\n",
      "Epoch 4/30\n",
      "612/612 [==============================] - 41s 67ms/step - loss: 0.7342 - accuracy: 0.7634 - val_loss: 0.4479 - val_accuracy: 0.8489\n",
      "Epoch 5/30\n",
      "612/612 [==============================] - 42s 68ms/step - loss: 0.5819 - accuracy: 0.8117 - val_loss: 0.5249 - val_accuracy: 0.8386\n",
      "Epoch 6/30\n",
      "612/612 [==============================] - 40s 66ms/step - loss: 0.4626 - accuracy: 0.8512 - val_loss: 0.3499 - val_accuracy: 0.8863\n",
      "Epoch 7/30\n",
      "612/612 [==============================] - 40s 66ms/step - loss: 0.4059 - accuracy: 0.8677 - val_loss: 0.2895 - val_accuracy: 0.9085\n",
      "Epoch 8/30\n",
      "612/612 [==============================] - 41s 68ms/step - loss: 0.3514 - accuracy: 0.8879 - val_loss: 0.2570 - val_accuracy: 0.9230\n",
      "Epoch 9/30\n",
      "612/612 [==============================] - 41s 66ms/step - loss: 0.3091 - accuracy: 0.8983 - val_loss: 0.2578 - val_accuracy: 0.9225\n",
      "Epoch 10/30\n",
      "612/612 [==============================] - 42s 68ms/step - loss: 0.2752 - accuracy: 0.9148 - val_loss: 0.2345 - val_accuracy: 0.9272\n",
      "Epoch 11/30\n",
      "612/612 [==============================] - 41s 66ms/step - loss: 0.2667 - accuracy: 0.9180 - val_loss: 0.3343 - val_accuracy: 0.9072\n",
      "Epoch 12/30\n",
      "612/612 [==============================] - 41s 67ms/step - loss: 0.2294 - accuracy: 0.9282 - val_loss: 0.1920 - val_accuracy: 0.9427\n",
      "Epoch 13/30\n",
      "612/612 [==============================] - 43s 70ms/step - loss: 0.2202 - accuracy: 0.9325 - val_loss: 0.2921 - val_accuracy: 0.9171\n",
      "Epoch 14/30\n",
      "612/612 [==============================] - 42s 68ms/step - loss: 0.2130 - accuracy: 0.9325 - val_loss: 0.1955 - val_accuracy: 0.9419\n",
      "Epoch 15/30\n",
      "612/612 [==============================] - 42s 69ms/step - loss: 0.1956 - accuracy: 0.9368 - val_loss: 0.1917 - val_accuracy: 0.9428\n",
      "Epoch 16/30\n",
      "612/612 [==============================] - 43s 70ms/step - loss: 0.1849 - accuracy: 0.9415 - val_loss: 0.1798 - val_accuracy: 0.9488\n",
      "Epoch 17/30\n",
      "612/612 [==============================] - 42s 69ms/step - loss: 0.1748 - accuracy: 0.9456 - val_loss: 0.1881 - val_accuracy: 0.9460\n",
      "Epoch 18/30\n",
      "612/612 [==============================] - 42s 69ms/step - loss: 0.1674 - accuracy: 0.9462 - val_loss: 0.5087 - val_accuracy: 0.8725\n",
      "Epoch 19/30\n",
      "612/612 [==============================] - 43s 70ms/step - loss: 0.1725 - accuracy: 0.9443 - val_loss: 0.1734 - val_accuracy: 0.9510\n",
      "Epoch 20/30\n",
      "612/612 [==============================] - 42s 68ms/step - loss: 0.1554 - accuracy: 0.9503 - val_loss: 0.1802 - val_accuracy: 0.9471\n",
      "Epoch 21/30\n",
      "612/612 [==============================] - 42s 68ms/step - loss: 0.1519 - accuracy: 0.9534 - val_loss: 4.2901 - val_accuracy: 0.2769\n",
      "Epoch 22/30\n",
      "612/612 [==============================] - 42s 68ms/step - loss: 0.1456 - accuracy: 0.9531 - val_loss: 0.2963 - val_accuracy: 0.9226\n",
      "Epoch 23/30\n",
      "612/612 [==============================] - 42s 68ms/step - loss: 0.1369 - accuracy: 0.9587 - val_loss: 0.4206 - val_accuracy: 0.8897\n",
      "Epoch 24/30\n",
      "612/612 [==============================] - 42s 68ms/step - loss: 0.1370 - accuracy: 0.9578 - val_loss: 4.5104 - val_accuracy: 0.2531\n",
      "Epoch 25/30\n",
      "612/612 [==============================] - 42s 68ms/step - loss: 0.1288 - accuracy: 0.9591 - val_loss: 0.2342 - val_accuracy: 0.9341\n",
      "Epoch 26/30\n",
      "612/612 [==============================] - 42s 68ms/step - loss: 0.1222 - accuracy: 0.9616 - val_loss: 1.4603 - val_accuracy: 0.6770\n",
      "Epoch 27/30\n",
      "612/612 [==============================] - 42s 68ms/step - loss: 0.1273 - accuracy: 0.9611 - val_loss: 0.2400 - val_accuracy: 0.9331\n",
      "Epoch 28/30\n",
      "612/612 [==============================] - 42s 68ms/step - loss: 0.1266 - accuracy: 0.9608 - val_loss: 0.2650 - val_accuracy: 0.9201\n",
      "Epoch 29/30\n",
      "612/612 [==============================] - 42s 68ms/step - loss: 0.1157 - accuracy: 0.9638 - val_loss: 0.6101 - val_accuracy: 0.8561\n",
      "Epoch 30/30\n",
      "612/612 [==============================] - 42s 68ms/step - loss: 0.1189 - accuracy: 0.9632 - val_loss: 1.1399 - val_accuracy: 0.7561\n"
     ]
    }
   ],
   "source": [
    "import math\n",
    "H = model.fit_generator(\n",
    "    aug.flow(trainX, trainY, batch_size=BS),\n",
    "    validation_data=(testX, testY),\n",
    "    steps_per_epoch= trainX.shape[0] // BS,\n",
    "    epochs=EPOCHS,\n",
    "#     class_weight=classWeight,\n",
    "    verbose=1)"
   ]
  },
  {
   "cell_type": "markdown",
   "metadata": {},
   "source": [
    "## having problem with class_weigth"
   ]
  },
  {
   "cell_type": "markdown",
   "metadata": {},
   "source": [
    "evaluate the network & save the model"
   ]
  },
  {
   "cell_type": "code",
   "execution_count": 26,
   "metadata": {},
   "outputs": [
    {
     "name": "stdout",
     "output_type": "stream",
     "text": [
      "                                                    precision    recall  f1-score   support\n",
      "\n",
      "                              Speed limit (20km/h)       0.68      0.72      0.70        60\n",
      "                              Speed limit (30km/h)       0.71      0.97      0.82       720\n",
      "                              Speed limit (50km/h)       0.83      0.80      0.81       750\n",
      "                              Speed limit (60km/h)       0.95      0.35      0.52       450\n",
      "                              Speed limit (70km/h)       0.96      0.54      0.69       660\n",
      "                              Speed limit (80km/h)       0.69      0.84      0.76       630\n",
      "                       End of speed limit (80km/h)       0.63      0.75      0.68       150\n",
      "                             Speed limit (100km/h)       0.66      0.79      0.72       450\n",
      "                             Speed limit (120km/h)       0.88      0.50      0.64       450\n",
      "                                        No passing       1.00      0.54      0.70       480\n",
      "      No passing for vehicles over 3.5 metric tons       1.00      0.62      0.76       660\n",
      "             Right-of-way at the next intersection       0.89      0.89      0.89       420\n",
      "                                     Priority road       0.76      0.98      0.85       690\n",
      "                                             Yield       0.97      0.94      0.96       720\n",
      "                                              Stop       0.88      0.84      0.86       270\n",
      "                                       No vehicles       1.00      0.32      0.49       210\n",
      "          Vehicles over 3.5 metric tons prohibited       0.71      0.89      0.79       150\n",
      "                                          No entry       1.00      0.84      0.91       360\n",
      "                                   General caution       1.00      0.60      0.75       390\n",
      "                       Dangerous curve to the left       0.91      0.17      0.28        60\n",
      "                      Dangerous curve to the right       0.60      0.64      0.62        90\n",
      "                                      Double curve       0.72      0.47      0.57        90\n",
      "                                        Bumpy road       0.85      0.57      0.69       120\n",
      "                                     Slippery road       0.46      0.85      0.59       150\n",
      "                         Road narrows on the right       0.39      0.73      0.51        90\n",
      "                                         Road work       0.90      0.93      0.91       480\n",
      "                                   Traffic signals       0.98      0.50      0.66       180\n",
      "                                       Pedestrians       0.40      0.45      0.43        60\n",
      "                                 Children crossing       0.78      0.76      0.77       150\n",
      "                                 Bicycles crossing       0.45      0.91      0.60        90\n",
      "                                Beware of ice/snow       0.59      0.41      0.49       150\n",
      "                             Wild animals crossing       0.88      0.84      0.86       270\n",
      "               End of all speed and passing limits       0.00      0.00      0.00        60\n",
      "                                  Turn right ahead       0.97      0.96      0.97       210\n",
      "                                   Turn left ahead       0.81      0.97      0.88       120\n",
      "                                        Ahead only       0.99      0.77      0.87       390\n",
      "                              Go straight or right       0.97      0.77      0.86       120\n",
      "                               Go straight or left       0.90      1.00      0.94        60\n",
      "                                        Keep right       0.54      1.00      0.70       690\n",
      "                                         Keep left       0.87      0.93      0.90        90\n",
      "                              Roundabout mandatory       0.16      0.91      0.28        90\n",
      "                                 End of no passing       0.88      0.37      0.52        60\n",
      "End of no passing by vehicles over 3.5 metric tons       0.54      0.50      0.52        90\n",
      "\n",
      "                                          accuracy                           0.76     12630\n",
      "                                         macro avg       0.76      0.70      0.69     12630\n",
      "                                      weighted avg       0.82      0.76      0.76     12630\n",
      "\n",
      "[INFO] serializing network to \n"
     ]
    }
   ],
   "source": [
    "predictions = model.predict(testX, batch_size=BS)\n",
    "print(classification_report(\n",
    "    testY.argmax(axis=1),\n",
    "    predictions.argmax(axis=1),\n",
    "    target_names=labelNames))\n",
    "\n",
    "# save the network to disk\n",
    "print(\"[INFO] serializing network to \")\n",
    "model.save(r'output/modelWithoutWeigth.model', save_format=\"h5\")"
   ]
  },
  {
   "cell_type": "code",
   "execution_count": 27,
   "metadata": {},
   "outputs": [
    {
     "data": {
      "image/png": "[encoded data removed]",
      "text/plain": [
       "<Figure size 432x288 with 1 Axes>"
      ]
     },
     "metadata": {},
     "output_type": "display_data"
    }
   ],
   "source": [
    "# plot the training loss and accuracy\n",
    "N = np.arange(0, EPOCHS)\n",
    "plt.style.use(\"ggplot\")\n",
    "plt.figure()\n",
    "plt.plot(N, H.history[\"loss\"], label=\"train_loss\")\n",
    "plt.plot(N, H.history[\"val_loss\"], label=\"val_loss\")\n",
    "plt.plot(N, H.history[\"accuracy\"], label=\"train_acc\")\n",
    "plt.plot(N, H.history[\"val_accuracy\"], label=\"val_acc\")\n",
    "plt.title(\"Training Loss and Accuracy on Dataset\")\n",
    "plt.xlabel(\"Epoch #\")\n",
    "plt.ylabel(\"Loss/Accuracy\")\n",
    "plt.legend(loc=\"lower left\")\n",
    "plt.savefig(r'output/resultWithoutWeigth.png')"
   ]
  },
  {
   "cell_type": "code",
   "execution_count": null,
   "metadata": {},
   "outputs": [],
   "source": []
  }
 ],
 "metadata": {
  "kernelspec": {
   "display_name": "Python 3",
   "language": "python",
   "name": "python3"
  },
  "language_info": {
   "codemirror_mode": {
    "name": "ipython",
    "version": 3
   },
   "file_extension": ".py",
   "mimetype": "text/x-python",
   "name": "python",
   "nbconvert_exporter": "python",
   "pygments_lexer": "ipython3",
   "version": "3.8.5"
  }
 },
 "nbformat": 4,
 "nbformat_minor": 4
}
