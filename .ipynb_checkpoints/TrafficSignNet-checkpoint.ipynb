{
 "cells": [
  {
   "cell_type": "markdown",
   "metadata": {},
   "source": [
    "#  <center> TrafficSignNet\n",
    "Conv2D   \n",
    "input: (None, 32, 32, 3)   \n",
    "output: (None, 32, 32, 8) \n",
    "    \n",
    "Activation   \n",
    "input: (None, 32,32,8)   \n",
    "output: (None, 32,32,8) \n",
    "    \n",
    "BatchNormalization   \n",
    "input: (None, 32, 32, 8)   \n",
    "output: (None, 32, 32, 8) \n",
    "    \n",
    "MaxPooling2D   \n",
    "input: (None, 32, 32, 8)   \n",
    "output: (None, 16, 16, 8) \n"
   ]
  },
  {
   "cell_type": "code",
   "execution_count": 2,
   "metadata": {},
   "outputs": [],
   "source": [
    "#necessary packages\n",
    "from tensorflow.keras.models import Sequential\n",
    "from tensorflow.keras.layers import BatchNormalization\n",
    "from tensorflow.keras.layers import Conv2D\n",
    "from tensorflow.keras.layers import MaxPooling2D\n",
    "from tensorflow.keras.layers import Activation\n",
    "from tensorflow.keras.layers import Dense\n",
    "from tensorflow.keras.layers import Flatten \n",
    "from tensorflow.keras.layers import Dropout"
   ]
  },
  {
   "cell_type": "code",
   "execution_count": 3,
   "metadata": {},
   "outputs": [],
   "source": [
    "class TrafficSignNet:\n",
    "    \n",
    "    def build(width, height, channel, classes):\n",
    "        \n",
    "        #init model\n",
    "        model = Sequential()\n",
    "        inputShape = (height, width, channel)\n",
    "        chanDim = -1\n",
    "        \n",
    "        # CONV => RELU => BN => POOL\n",
    "        \n",
    "        model.add(Conv2D(8, (5, 5), padding=\"same\", input_shape= inputShape))       \n",
    "        # 5×5 kernel to learn larger features\n",
    "        # distinguish between different traffic sign shapes and color blobs\n",
    "        model.add(Activation(\"relu\"))\n",
    "        model.add(BatchNormalization(axis= chanDim))\n",
    "        model.add(MaxPooling2D(pool_size=(2, 2)))\n",
    "                  \n",
    "        #(CONV => RELU => CONV => RELU) * 2 => POOL layers:\n",
    "        model.add(Conv2D(16, (3, 3), padding=\"same\"))\n",
    "        model.add(Activation(\"relu\"))\n",
    "        model.add(BatchNormalization(axis= chanDim))\n",
    "        model.add(Conv2D(16, (3, 3), padding=\"same\"))\n",
    "        model.add(Activation(\"relu\"))\n",
    "        model.add(BatchNormalization(axis= chanDim))\n",
    "        model.add(MaxPooling2D(pool_size=(2, 2)))\n",
    "        \n",
    "        # second set of (CONV => RELU => CONV => RELU) * 2 => POOL\n",
    "        model.add(Conv2D(32, (3, 3), padding=\"same\"))\n",
    "        model.add(Activation(\"relu\"))\n",
    "        model.add(BatchNormalization(axis= chanDim))\n",
    "        model.add(Conv2D(32, (3, 3), padding=\"same\"))\n",
    "        model.add(Activation(\"relu\"))\n",
    "        model.add(BatchNormalization(axis=chanDim))\n",
    "        model.add(MaxPooling2D(pool_size=(2, 2)))\n",
    "        \n",
    "        #The head of our network consists of two sets of fully connected layers and a softmax classifier\n",
    "        # first set of FC => RELU layers\n",
    "        model.add(Flatten())\n",
    "        model.add(Dense(128))\n",
    "        model.add(Activation(\"relu\"))\n",
    "        model.add(BatchNormalization())\n",
    "        model.add(Dropout(0.5))\n",
    "        \n",
    "        # second set of FC => RELU layers\n",
    "        model.add(Flatten())\n",
    "        model.add(Dense(128))\n",
    "        model.add(Activation(\"relu\"))\n",
    "        model.add(BatchNormalization())\n",
    "        model.add(Dropout(0.5))\n",
    "                  \n",
    "        # softmax classifier\n",
    "        model.add(Dense(classes))\n",
    "        model.add(Activation(\"softmax\"))\n",
    "        \n",
    "        return model\n",
    "## if you cant get this model goto https://github.com/yeasin50/startUP_CNN\n",
    "        "
   ]
  },
  {
   "cell_type": "code",
   "execution_count": null,
   "metadata": {},
   "outputs": [],
   "source": []
  }
 ],
 "metadata": {
  "kernelspec": {
   "display_name": "Python 3",
   "language": "python",
   "name": "python3"
  },
  "language_info": {
   "codemirror_mode": {
    "name": "ipython",
    "version": 3
   },
   "file_extension": ".py",
   "mimetype": "text/x-python",
   "name": "python",
   "nbconvert_exporter": "python",
   "pygments_lexer": "ipython3",
   "version": "3.8.5"
  }
 },
 "nbformat": 4,
 "nbformat_minor": 2
}
